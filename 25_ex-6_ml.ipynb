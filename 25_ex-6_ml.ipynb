{
 "cells": [
  {
   "cell_type": "markdown",
   "id": "6c966431",
   "metadata": {},
   "source": [
    "<h1><centre>Naive Bayes classifier to classify Unstructured Data</h1></centre>"
   ]
  },
  {
   "cell_type": "code",
   "execution_count": 1,
   "id": "a95f7093",
   "metadata": {},
   "outputs": [],
   "source": [
    "# scrapping libraries\n",
    "from GoogleNews import GoogleNews\n",
    "import gensim"
   ]
  },
  {
   "cell_type": "code",
   "execution_count": 2,
   "id": "f9ae76e9",
   "metadata": {},
   "outputs": [],
   "source": [
    "#libraries\n",
    "import numpy as np \n",
    "import pandas as pd \n",
    "import seaborn as sns\n",
    "import matplotlib.pyplot as plt\n",
    "%matplotlib inline\n",
    "import requests\n",
    "import nltk\n",
    "import random\n",
    "from wordcloud import WordCloud\n",
    "import os\n",
    "import spacy\n",
    "from textblob import TextBlob\n",
    "from nltk.corpus import brown"
   ]
  },
  {
   "cell_type": "code",
   "execution_count": 3,
   "id": "649aeba7",
   "metadata": {},
   "outputs": [],
   "source": [
    "import string\n",
    "string.punctuation\n",
    "import re\n",
    "import collections\n",
    "from nltk.tokenize import word_tokenize\n",
    "from nltk.corpus import stopwords\n",
    "from nltk.stem.porter import PorterStemmer\n",
    "from nltk.stem import WordNetLemmatizer\n",
    "from nltk.sentiment.vader import SentimentIntensityAnalyzer\n",
    "from collections import Counter\n",
    "from nltk.util import ngrams\n",
    "import datetime as dt\n",
    "from datetime import date\n",
    "import calendar"
   ]
  },
  {
   "cell_type": "code",
   "execution_count": 4,
   "id": "3b6565ee",
   "metadata": {},
   "outputs": [
    {
     "name": "stderr",
     "output_type": "stream",
     "text": [
      "[nltk_data] Downloading package names to\n",
      "[nltk_data]     C:\\Users\\ranji\\AppData\\Roaming\\nltk_data...\n",
      "[nltk_data]   Package names is already up-to-date!\n"
     ]
    },
    {
     "data": {
      "text/plain": [
       "True"
      ]
     },
     "execution_count": 4,
     "metadata": {},
     "output_type": "execute_result"
    }
   ],
   "source": [
    "nltk.download('names')"
   ]
  },
  {
   "cell_type": "markdown",
   "id": "9cdbd0a9",
   "metadata": {},
   "source": [
    "**Scrapping cybercrime data from google news**"
   ]
  },
  {
   "cell_type": "code",
   "execution_count": 5,
   "id": "8cfa482f",
   "metadata": {},
   "outputs": [
    {
     "data": {
      "text/html": [
       "<div>\n",
       "<style scoped>\n",
       "    .dataframe tbody tr th:only-of-type {\n",
       "        vertical-align: middle;\n",
       "    }\n",
       "\n",
       "    .dataframe tbody tr th {\n",
       "        vertical-align: top;\n",
       "    }\n",
       "\n",
       "    .dataframe thead th {\n",
       "        text-align: right;\n",
       "    }\n",
       "</style>\n",
       "<table border=\"1\" class=\"dataframe\">\n",
       "  <thead>\n",
       "    <tr style=\"text-align: right;\">\n",
       "      <th></th>\n",
       "      <th>title</th>\n",
       "      <th>media</th>\n",
       "      <th>date</th>\n",
       "      <th>datetime</th>\n",
       "      <th>desc</th>\n",
       "      <th>link</th>\n",
       "      <th>img</th>\n",
       "    </tr>\n",
       "  </thead>\n",
       "  <tbody>\n",
       "    <tr>\n",
       "      <th>0</th>\n",
       "      <td>Australia blames cyber criminals in Russia for...</td>\n",
       "      <td>CNN</td>\n",
       "      <td>4 days ago</td>\n",
       "      <td>2022-11-11 18:04:53.938207</td>\n",
       "      <td>Links to notorious Russian hackers. Cyber secu...</td>\n",
       "      <td>https://www.cnn.com/2022/11/11/tech/medibank-a...</td>\n",
       "      <td>data:image/gif;base64,R0lGODlhAQABAIAAAP//////...</td>\n",
       "    </tr>\n",
       "    <tr>\n",
       "      <th>1</th>\n",
       "      <td>Hacker demands $10m to stop leaking Australian...</td>\n",
       "      <td>Al Jazeera</td>\n",
       "      <td>5 days ago</td>\n",
       "      <td>2022-11-10 18:04:53.964787</td>\n",
       "      <td>A cyber-extortionist has demanded almost $10 m...</td>\n",
       "      <td>https://www.aljazeera.com/economy/2022/11/10/h...</td>\n",
       "      <td>data:image/gif;base64,R0lGODlhAQABAIAAAP//////...</td>\n",
       "    </tr>\n",
       "    <tr>\n",
       "      <th>2</th>\n",
       "      <td>What do we know about REvil, the Russian ranso...</td>\n",
       "      <td>The Conversation</td>\n",
       "      <td>4 days ago</td>\n",
       "      <td>2022-11-11 18:04:53.987725</td>\n",
       "      <td>Australian Federal Police Commissioner Reece K...</td>\n",
       "      <td>https://theconversation.com/what-do-we-know-ab...</td>\n",
       "      <td>data:image/gif;base64,R0lGODlhAQABAIAAAP//////...</td>\n",
       "    </tr>\n",
       "    <tr>\n",
       "      <th>3</th>\n",
       "      <td>Explained: Why Are There So Many Data Breaches...</td>\n",
       "      <td>The Wire</td>\n",
       "      <td>3 weeks ago</td>\n",
       "      <td>2022-10-25 18:04:54.016813</td>\n",
       "      <td>Hackers and initial access brokers are just on...</td>\n",
       "      <td>https://thewire.in/tech/explained-why-are-ther...</td>\n",
       "      <td>data:image/gif;base64,R0lGODlhAQABAIAAAP//////...</td>\n",
       "    </tr>\n",
       "    <tr>\n",
       "      <th>4</th>\n",
       "      <td>Haryana Police to observe 'cybersecurity month...</td>\n",
       "      <td>The Indian Express</td>\n",
       "      <td>1 month ago</td>\n",
       "      <td>2022-10-15 18:04:54.045819</td>\n",
       "      <td>The state police's cyber cell helpline number ...</td>\n",
       "      <td>https://indianexpress.com/article/cities/chand...</td>\n",
       "      <td>data:image/gif;base64,R0lGODlhAQABAIAAAP//////...</td>\n",
       "    </tr>\n",
       "  </tbody>\n",
       "</table>\n",
       "</div>"
      ],
      "text/plain": [
       "                                               title               media  \\\n",
       "0  Australia blames cyber criminals in Russia for...                 CNN   \n",
       "1  Hacker demands $10m to stop leaking Australian...          Al Jazeera   \n",
       "2  What do we know about REvil, the Russian ranso...    The Conversation   \n",
       "3  Explained: Why Are There So Many Data Breaches...            The Wire   \n",
       "4  Haryana Police to observe 'cybersecurity month...  The Indian Express   \n",
       "\n",
       "          date                   datetime  \\\n",
       "0   4 days ago 2022-11-11 18:04:53.938207   \n",
       "1   5 days ago 2022-11-10 18:04:53.964787   \n",
       "2   4 days ago 2022-11-11 18:04:53.987725   \n",
       "3  3 weeks ago 2022-10-25 18:04:54.016813   \n",
       "4  1 month ago 2022-10-15 18:04:54.045819   \n",
       "\n",
       "                                                desc  \\\n",
       "0  Links to notorious Russian hackers. Cyber secu...   \n",
       "1  A cyber-extortionist has demanded almost $10 m...   \n",
       "2  Australian Federal Police Commissioner Reece K...   \n",
       "3  Hackers and initial access brokers are just on...   \n",
       "4  The state police's cyber cell helpline number ...   \n",
       "\n",
       "                                                link  \\\n",
       "0  https://www.cnn.com/2022/11/11/tech/medibank-a...   \n",
       "1  https://www.aljazeera.com/economy/2022/11/10/h...   \n",
       "2  https://theconversation.com/what-do-we-know-ab...   \n",
       "3  https://thewire.in/tech/explained-why-are-ther...   \n",
       "4  https://indianexpress.com/article/cities/chand...   \n",
       "\n",
       "                                                 img  \n",
       "0  data:image/gif;base64,R0lGODlhAQABAIAAAP//////...  \n",
       "1  data:image/gif;base64,R0lGODlhAQABAIAAAP//////...  \n",
       "2  data:image/gif;base64,R0lGODlhAQABAIAAAP//////...  \n",
       "3  data:image/gif;base64,R0lGODlhAQABAIAAAP//////...  \n",
       "4  data:image/gif;base64,R0lGODlhAQABAIAAAP//////...  "
      ]
     },
     "execution_count": 5,
     "metadata": {},
     "output_type": "execute_result"
    }
   ],
   "source": [
    "googlenews=GoogleNews(start='09/10/2022',end='11/10/2022') #for 30 days\n",
    "googlenews.search('cyber crime')\n",
    "result=googlenews.result()\n",
    "df=pd.DataFrame(result)\n",
    "df.head()"
   ]
  },
  {
   "cell_type": "code",
   "execution_count": 6,
   "id": "6e4ca6c6",
   "metadata": {
    "scrolled": true
   },
   "outputs": [
    {
     "name": "stdout",
     "output_type": "stream",
     "text": [
      "'NoneType' object has no attribute 'group'\n",
      "'NoneType' object is not iterable\n",
      "'NoneType' object is not iterable\n",
      "'NoneType' object is not iterable\n",
      "'NoneType' object is not iterable\n",
      "'NoneType' object is not iterable\n",
      "'NoneType' object is not iterable\n",
      "'NoneType' object is not iterable\n",
      "'NoneType' object is not iterable\n",
      "'NoneType' object is not iterable\n",
      "'NoneType' object is not iterable\n",
      "'NoneType' object is not iterable\n",
      "'NoneType' object is not iterable\n",
      "'NoneType' object is not iterable\n",
      "'NoneType' object is not iterable\n",
      "'NoneType' object is not iterable\n",
      "'NoneType' object is not iterable\n",
      "'NoneType' object is not iterable\n",
      "'NoneType' object is not iterable\n",
      "'NoneType' object is not iterable\n",
      "'NoneType' object is not iterable\n",
      "'NoneType' object is not iterable\n",
      "'NoneType' object is not iterable\n",
      "'NoneType' object is not iterable\n",
      "'NoneType' object is not iterable\n",
      "'NoneType' object is not iterable\n",
      "'NoneType' object is not iterable\n",
      "'NoneType' object is not iterable\n",
      "'NoneType' object is not iterable\n",
      "'NoneType' object is not iterable\n",
      "'NoneType' object is not iterable\n",
      "'NoneType' object is not iterable\n",
      "'NoneType' object is not iterable\n",
      "'NoneType' object is not iterable\n",
      "'NoneType' object is not iterable\n",
      "'NoneType' object is not iterable\n",
      "'NoneType' object is not iterable\n",
      "'NoneType' object is not iterable\n",
      "'NoneType' object is not iterable\n",
      "'NoneType' object is not iterable\n",
      "'NoneType' object is not iterable\n",
      "'NoneType' object is not iterable\n",
      "'NoneType' object is not iterable\n",
      "'NoneType' object is not iterable\n",
      "'NoneType' object is not iterable\n",
      "'NoneType' object is not iterable\n",
      "'NoneType' object is not iterable\n",
      "'NoneType' object is not iterable\n",
      "'NoneType' object is not iterable\n",
      "'NoneType' object is not iterable\n",
      "'NoneType' object is not iterable\n",
      "'NoneType' object is not iterable\n",
      "'NoneType' object is not iterable\n",
      "'NoneType' object is not iterable\n",
      "'NoneType' object is not iterable\n",
      "'NoneType' object is not iterable\n",
      "'NoneType' object is not iterable\n",
      "'NoneType' object is not iterable\n",
      "'NoneType' object is not iterable\n",
      "'NoneType' object is not iterable\n",
      "'NoneType' object is not iterable\n",
      "'NoneType' object is not iterable\n",
      "'NoneType' object is not iterable\n",
      "'NoneType' object is not iterable\n",
      "'NoneType' object is not iterable\n",
      "'NoneType' object is not iterable\n",
      "'NoneType' object is not iterable\n",
      "'NoneType' object is not iterable\n",
      "'NoneType' object is not iterable\n",
      "'NoneType' object is not iterable\n"
     ]
    }
   ],
   "source": [
    "#creating a dataframe\n",
    "for i in range(2,100):\n",
    "    googlenews.getpage(i)\n",
    "    result=googlenews.result()\n",
    "    df=pd.DataFrame(result)"
   ]
  },
  {
   "cell_type": "code",
   "execution_count": 7,
   "id": "3b97e0ab",
   "metadata": {},
   "outputs": [
    {
     "data": {
      "text/html": [
       "<div>\n",
       "<style scoped>\n",
       "    .dataframe tbody tr th:only-of-type {\n",
       "        vertical-align: middle;\n",
       "    }\n",
       "\n",
       "    .dataframe tbody tr th {\n",
       "        vertical-align: top;\n",
       "    }\n",
       "\n",
       "    .dataframe thead th {\n",
       "        text-align: right;\n",
       "    }\n",
       "</style>\n",
       "<table border=\"1\" class=\"dataframe\">\n",
       "  <thead>\n",
       "    <tr style=\"text-align: right;\">\n",
       "      <th></th>\n",
       "      <th>title</th>\n",
       "      <th>media</th>\n",
       "      <th>date</th>\n",
       "      <th>datetime</th>\n",
       "      <th>desc</th>\n",
       "      <th>link</th>\n",
       "      <th>img</th>\n",
       "    </tr>\n",
       "  </thead>\n",
       "  <tbody>\n",
       "    <tr>\n",
       "      <th>0</th>\n",
       "      <td>Australia blames cyber criminals in Russia for...</td>\n",
       "      <td>CNN</td>\n",
       "      <td>4 days ago</td>\n",
       "      <td>2022-11-11 18:04:53.938207</td>\n",
       "      <td>Links to notorious Russian hackers. Cyber secu...</td>\n",
       "      <td>https://www.cnn.com/2022/11/11/tech/medibank-a...</td>\n",
       "      <td>data:image/gif;base64,R0lGODlhAQABAIAAAP//////...</td>\n",
       "    </tr>\n",
       "    <tr>\n",
       "      <th>1</th>\n",
       "      <td>Hacker demands $10m to stop leaking Australian...</td>\n",
       "      <td>Al Jazeera</td>\n",
       "      <td>5 days ago</td>\n",
       "      <td>2022-11-10 18:04:53.964787</td>\n",
       "      <td>A cyber-extortionist has demanded almost $10 m...</td>\n",
       "      <td>https://www.aljazeera.com/economy/2022/11/10/h...</td>\n",
       "      <td>data:image/gif;base64,R0lGODlhAQABAIAAAP//////...</td>\n",
       "    </tr>\n",
       "    <tr>\n",
       "      <th>2</th>\n",
       "      <td>What do we know about REvil, the Russian ranso...</td>\n",
       "      <td>The Conversation</td>\n",
       "      <td>4 days ago</td>\n",
       "      <td>2022-11-11 18:04:53.987725</td>\n",
       "      <td>Australian Federal Police Commissioner Reece K...</td>\n",
       "      <td>https://theconversation.com/what-do-we-know-ab...</td>\n",
       "      <td>data:image/gif;base64,R0lGODlhAQABAIAAAP//////...</td>\n",
       "    </tr>\n",
       "    <tr>\n",
       "      <th>3</th>\n",
       "      <td>Explained: Why Are There So Many Data Breaches...</td>\n",
       "      <td>The Wire</td>\n",
       "      <td>3 weeks ago</td>\n",
       "      <td>2022-10-25 18:04:54.016813</td>\n",
       "      <td>Hackers and initial access brokers are just on...</td>\n",
       "      <td>https://thewire.in/tech/explained-why-are-ther...</td>\n",
       "      <td>data:image/gif;base64,R0lGODlhAQABAIAAAP//////...</td>\n",
       "    </tr>\n",
       "    <tr>\n",
       "      <th>4</th>\n",
       "      <td>Haryana Police to observe 'cybersecurity month...</td>\n",
       "      <td>The Indian Express</td>\n",
       "      <td>1 month ago</td>\n",
       "      <td>2022-10-15 18:04:54.045819</td>\n",
       "      <td>The state police's cyber cell helpline number ...</td>\n",
       "      <td>https://indianexpress.com/article/cities/chand...</td>\n",
       "      <td>data:image/gif;base64,R0lGODlhAQABAIAAAP//////...</td>\n",
       "    </tr>\n",
       "    <tr>\n",
       "      <th>...</th>\n",
       "      <td>...</td>\n",
       "      <td>...</td>\n",
       "      <td>...</td>\n",
       "      <td>...</td>\n",
       "      <td>...</td>\n",
       "      <td>...</td>\n",
       "      <td>...</td>\n",
       "    </tr>\n",
       "    <tr>\n",
       "      <th>279</th>\n",
       "      <td>Think you're immune to cybercrime because you'...</td>\n",
       "      <td>Local News 8</td>\n",
       "      <td>1 week ago</td>\n",
       "      <td>2022-11-08 18:05:32.753625</td>\n",
       "      <td>BestForBest // Shutterstock. Think you're immu...</td>\n",
       "      <td>https://localnews8.com/news/crime-tracker/2022...</td>\n",
       "      <td>data:image/gif;base64,R0lGODlhAQABAIAAAP//////...</td>\n",
       "    </tr>\n",
       "    <tr>\n",
       "      <th>280</th>\n",
       "      <td>Live breaking news: William Tyrrell's foster m...</td>\n",
       "      <td>9News</td>\n",
       "      <td>1 week ago</td>\n",
       "      <td>2022-11-08 18:05:33.747813</td>\n",
       "      <td>And there has been a jump in cybercrime, with ...</td>\n",
       "      <td>https://www.9news.com.au/national/australia-br...</td>\n",
       "      <td>data:image/gif;base64,R0lGODlhAQABAIAAAP//////...</td>\n",
       "    </tr>\n",
       "    <tr>\n",
       "      <th>281</th>\n",
       "      <td>Cyber victims urged to report crime</td>\n",
       "      <td>PS News</td>\n",
       "      <td>1 week ago</td>\n",
       "      <td>2022-11-08 18:05:33.770467</td>\n",
       "      <td>Australian victims of cybercrime are being urg...</td>\n",
       "      <td>https://psnews.com.au/2022/11/08/cyber-victims...</td>\n",
       "      <td>data:image/gif;base64,R0lGODlhAQABAIAAAP//////...</td>\n",
       "    </tr>\n",
       "    <tr>\n",
       "      <th>282</th>\n",
       "      <td>As Cybercrime Becomes More Prevalent, Public I...</td>\n",
       "      <td>Bisnow</td>\n",
       "      <td>5 days ago</td>\n",
       "      <td>2022-11-10 18:05:33.793513</td>\n",
       "      <td>As Cybercrime Becomes More Prevalent, Public I...</td>\n",
       "      <td>https://www.bisnow.com/washington-dc/news/comm...</td>\n",
       "      <td>data:image/gif;base64,R0lGODlhAQABAIAAAP//////...</td>\n",
       "    </tr>\n",
       "    <tr>\n",
       "      <th>283</th>\n",
       "      <td>UPI scam: Massive spike in online payment frau...</td>\n",
       "      <td>DNA India</td>\n",
       "      <td>1 week ago</td>\n",
       "      <td>2022-11-08 18:05:33.818510</td>\n",
       "      <td>There was a 15.3 per cent increase in cyber fr...</td>\n",
       "      <td>https://www.dnaindia.com/business/report-upi-s...</td>\n",
       "      <td>data:image/gif;base64,R0lGODlhAQABAIAAAP//////...</td>\n",
       "    </tr>\n",
       "  </tbody>\n",
       "</table>\n",
       "<p>284 rows × 7 columns</p>\n",
       "</div>"
      ],
      "text/plain": [
       "                                                 title               media  \\\n",
       "0    Australia blames cyber criminals in Russia for...                 CNN   \n",
       "1    Hacker demands $10m to stop leaking Australian...          Al Jazeera   \n",
       "2    What do we know about REvil, the Russian ranso...    The Conversation   \n",
       "3    Explained: Why Are There So Many Data Breaches...            The Wire   \n",
       "4    Haryana Police to observe 'cybersecurity month...  The Indian Express   \n",
       "..                                                 ...                 ...   \n",
       "279  Think you're immune to cybercrime because you'...        Local News 8   \n",
       "280  Live breaking news: William Tyrrell's foster m...               9News   \n",
       "281                Cyber victims urged to report crime             PS News   \n",
       "282  As Cybercrime Becomes More Prevalent, Public I...              Bisnow   \n",
       "283  UPI scam: Massive spike in online payment frau...           DNA India   \n",
       "\n",
       "            date                   datetime  \\\n",
       "0     4 days ago 2022-11-11 18:04:53.938207   \n",
       "1     5 days ago 2022-11-10 18:04:53.964787   \n",
       "2     4 days ago 2022-11-11 18:04:53.987725   \n",
       "3    3 weeks ago 2022-10-25 18:04:54.016813   \n",
       "4    1 month ago 2022-10-15 18:04:54.045819   \n",
       "..           ...                        ...   \n",
       "279   1 week ago 2022-11-08 18:05:32.753625   \n",
       "280   1 week ago 2022-11-08 18:05:33.747813   \n",
       "281   1 week ago 2022-11-08 18:05:33.770467   \n",
       "282   5 days ago 2022-11-10 18:05:33.793513   \n",
       "283   1 week ago 2022-11-08 18:05:33.818510   \n",
       "\n",
       "                                                  desc  \\\n",
       "0    Links to notorious Russian hackers. Cyber secu...   \n",
       "1    A cyber-extortionist has demanded almost $10 m...   \n",
       "2    Australian Federal Police Commissioner Reece K...   \n",
       "3    Hackers and initial access brokers are just on...   \n",
       "4    The state police's cyber cell helpline number ...   \n",
       "..                                                 ...   \n",
       "279  BestForBest // Shutterstock. Think you're immu...   \n",
       "280  And there has been a jump in cybercrime, with ...   \n",
       "281  Australian victims of cybercrime are being urg...   \n",
       "282  As Cybercrime Becomes More Prevalent, Public I...   \n",
       "283  There was a 15.3 per cent increase in cyber fr...   \n",
       "\n",
       "                                                  link  \\\n",
       "0    https://www.cnn.com/2022/11/11/tech/medibank-a...   \n",
       "1    https://www.aljazeera.com/economy/2022/11/10/h...   \n",
       "2    https://theconversation.com/what-do-we-know-ab...   \n",
       "3    https://thewire.in/tech/explained-why-are-ther...   \n",
       "4    https://indianexpress.com/article/cities/chand...   \n",
       "..                                                 ...   \n",
       "279  https://localnews8.com/news/crime-tracker/2022...   \n",
       "280  https://www.9news.com.au/national/australia-br...   \n",
       "281  https://psnews.com.au/2022/11/08/cyber-victims...   \n",
       "282  https://www.bisnow.com/washington-dc/news/comm...   \n",
       "283  https://www.dnaindia.com/business/report-upi-s...   \n",
       "\n",
       "                                                   img  \n",
       "0    data:image/gif;base64,R0lGODlhAQABAIAAAP//////...  \n",
       "1    data:image/gif;base64,R0lGODlhAQABAIAAAP//////...  \n",
       "2    data:image/gif;base64,R0lGODlhAQABAIAAAP//////...  \n",
       "3    data:image/gif;base64,R0lGODlhAQABAIAAAP//////...  \n",
       "4    data:image/gif;base64,R0lGODlhAQABAIAAAP//////...  \n",
       "..                                                 ...  \n",
       "279  data:image/gif;base64,R0lGODlhAQABAIAAAP//////...  \n",
       "280  data:image/gif;base64,R0lGODlhAQABAIAAAP//////...  \n",
       "281  data:image/gif;base64,R0lGODlhAQABAIAAAP//////...  \n",
       "282  data:image/gif;base64,R0lGODlhAQABAIAAAP//////...  \n",
       "283  data:image/gif;base64,R0lGODlhAQABAIAAAP//////...  \n",
       "\n",
       "[284 rows x 7 columns]"
      ]
     },
     "execution_count": 7,
     "metadata": {},
     "output_type": "execute_result"
    }
   ],
   "source": [
    "df"
   ]
  },
  {
   "cell_type": "code",
   "execution_count": 8,
   "id": "6a9e7e3c",
   "metadata": {},
   "outputs": [
    {
     "data": {
      "text/plain": [
       "(284, 7)"
      ]
     },
     "execution_count": 8,
     "metadata": {},
     "output_type": "execute_result"
    }
   ],
   "source": [
    "df.shape"
   ]
  },
  {
   "cell_type": "code",
   "execution_count": 9,
   "id": "ac32d640",
   "metadata": {},
   "outputs": [
    {
     "data": {
      "text/plain": [
       "title        0\n",
       "media        0\n",
       "date         0\n",
       "datetime    38\n",
       "desc         0\n",
       "link         0\n",
       "img          0\n",
       "dtype: int64"
      ]
     },
     "execution_count": 9,
     "metadata": {},
     "output_type": "execute_result"
    }
   ],
   "source": [
    "#checking for null values\n",
    "df.isnull().sum()"
   ]
  },
  {
   "cell_type": "markdown",
   "id": "bedcf3da",
   "metadata": {},
   "source": [
    "There is no null values in the dataset."
   ]
  },
  {
   "cell_type": "markdown",
   "id": "f9b2428d",
   "metadata": {},
   "source": [
    "**Separating categorical and numerical**"
   ]
  },
  {
   "cell_type": "code",
   "execution_count": 10,
   "id": "fe7681fb",
   "metadata": {},
   "outputs": [],
   "source": [
    "categorical = df.select_dtypes(include=object)\n",
    "numerical = df.select_dtypes(exclude=object)"
   ]
  },
  {
   "cell_type": "code",
   "execution_count": 11,
   "id": "7bddfd29",
   "metadata": {},
   "outputs": [
    {
     "name": "stdout",
     "output_type": "stream",
     "text": [
      "categorical attributes: 6\n",
      "numerical attributes: 1\n"
     ]
    }
   ],
   "source": [
    "print(\"categorical attributes:\",categorical.shape[1])\n",
    "print(\"numerical attributes:\",numerical.shape[1])"
   ]
  },
  {
   "cell_type": "markdown",
   "id": "a15627c0",
   "metadata": {},
   "source": [
    "**dropping image and link attribute from the dataset**"
   ]
  },
  {
   "cell_type": "code",
   "execution_count": 12,
   "id": "8dfc6d35",
   "metadata": {},
   "outputs": [
    {
     "data": {
      "text/html": [
       "<div>\n",
       "<style scoped>\n",
       "    .dataframe tbody tr th:only-of-type {\n",
       "        vertical-align: middle;\n",
       "    }\n",
       "\n",
       "    .dataframe tbody tr th {\n",
       "        vertical-align: top;\n",
       "    }\n",
       "\n",
       "    .dataframe thead th {\n",
       "        text-align: right;\n",
       "    }\n",
       "</style>\n",
       "<table border=\"1\" class=\"dataframe\">\n",
       "  <thead>\n",
       "    <tr style=\"text-align: right;\">\n",
       "      <th></th>\n",
       "      <th>title</th>\n",
       "      <th>media</th>\n",
       "      <th>date</th>\n",
       "      <th>datetime</th>\n",
       "      <th>desc</th>\n",
       "    </tr>\n",
       "  </thead>\n",
       "  <tbody>\n",
       "    <tr>\n",
       "      <th>0</th>\n",
       "      <td>Australia blames cyber criminals in Russia for...</td>\n",
       "      <td>CNN</td>\n",
       "      <td>4 days ago</td>\n",
       "      <td>2022-11-11 18:04:53.938207</td>\n",
       "      <td>Links to notorious Russian hackers. Cyber secu...</td>\n",
       "    </tr>\n",
       "    <tr>\n",
       "      <th>1</th>\n",
       "      <td>Hacker demands $10m to stop leaking Australian...</td>\n",
       "      <td>Al Jazeera</td>\n",
       "      <td>5 days ago</td>\n",
       "      <td>2022-11-10 18:04:53.964787</td>\n",
       "      <td>A cyber-extortionist has demanded almost $10 m...</td>\n",
       "    </tr>\n",
       "  </tbody>\n",
       "</table>\n",
       "</div>"
      ],
      "text/plain": [
       "                                               title       media        date  \\\n",
       "0  Australia blames cyber criminals in Russia for...         CNN  4 days ago   \n",
       "1  Hacker demands $10m to stop leaking Australian...  Al Jazeera  5 days ago   \n",
       "\n",
       "                    datetime  \\\n",
       "0 2022-11-11 18:04:53.938207   \n",
       "1 2022-11-10 18:04:53.964787   \n",
       "\n",
       "                                                desc  \n",
       "0  Links to notorious Russian hackers. Cyber secu...  \n",
       "1  A cyber-extortionist has demanded almost $10 m...  "
      ]
     },
     "execution_count": 12,
     "metadata": {},
     "output_type": "execute_result"
    }
   ],
   "source": [
    "df.drop(['link','img'], axis=1, inplace=True)\n",
    "df.head(2)"
   ]
  },
  {
   "cell_type": "markdown",
   "id": "7043cf41",
   "metadata": {},
   "source": [
    "**Text Pre-processing**"
   ]
  },
  {
   "cell_type": "code",
   "execution_count": 13,
   "id": "4fd30cdd",
   "metadata": {},
   "outputs": [],
   "source": [
    "#Lower casing\n",
    "df['desc'] = df['desc'].str.lower()"
   ]
  },
  {
   "cell_type": "code",
   "execution_count": 14,
   "id": "e0e05bf4",
   "metadata": {},
   "outputs": [],
   "source": [
    "#Removal of Punctuations\n",
    "df['desc'] = df['desc'].apply(lambda x :re.sub(r'[^\\w\\s]','',x))"
   ]
  },
  {
   "cell_type": "code",
   "execution_count": 15,
   "id": "8c9e8639",
   "metadata": {},
   "outputs": [],
   "source": [
    "#Tokenization\n",
    "df.insert(5, 'desc_tokenized', df['desc'].apply(lambda x:word_tokenize(x)))"
   ]
  },
  {
   "cell_type": "code",
   "execution_count": 16,
   "id": "11b1f0f1",
   "metadata": {},
   "outputs": [],
   "source": [
    "#Removal of stopwords\n",
    "stop = stopwords.words('english')\n",
    "df.insert(6, 'no_stopwords', df['desc'].apply(lambda x:' '.join([word for word in x.split() if word not in stop])))"
   ]
  },
  {
   "cell_type": "code",
   "execution_count": 17,
   "id": "46e9f9eb",
   "metadata": {},
   "outputs": [
    {
     "data": {
      "text/plain": [
       "[('cyber', 269),\n",
       " ('crime', 166),\n",
       " ('cybercrime', 99),\n",
       " ('police', 97),\n",
       " ('criminals', 39),\n",
       " ('security', 30),\n",
       " ('crimes', 28),\n",
       " ('awareness', 23),\n",
       " ('fraud', 21),\n",
       " ('said', 20)]"
      ]
     },
     "execution_count": 17,
     "metadata": {},
     "output_type": "execute_result"
    }
   ],
   "source": [
    "#finding repeated words\n",
    "from collections import Counter\n",
    "cnt = Counter()\n",
    "for text in df['no_stopwords'].values:\n",
    "    for word in text.split():\n",
    "        cnt[word] += 1\n",
    "        \n",
    "cnt.most_common(10)"
   ]
  },
  {
   "cell_type": "markdown",
   "id": "f742d3c7",
   "metadata": {},
   "source": [
    "Based upon this repeated words, we are going to create a corpus."
   ]
  },
  {
   "cell_type": "code",
   "execution_count": 18,
   "id": "fbdae160",
   "metadata": {},
   "outputs": [],
   "source": [
    "#stemming\n",
    "porter_stemmer = PorterStemmer()\n",
    "def stemming(text):\n",
    "    stem_text=[porter_stemmer.stem(word) for word in text.split()]\n",
    "    return stem_text"
   ]
  },
  {
   "cell_type": "code",
   "execution_count": 19,
   "id": "64bce900",
   "metadata": {},
   "outputs": [],
   "source": [
    "df.insert(7, 'msg_stemmed', df['no_stopwords'].apply(lambda x: stemming(x)))"
   ]
  },
  {
   "cell_type": "code",
   "execution_count": 20,
   "id": "13242c7d",
   "metadata": {},
   "outputs": [],
   "source": [
    "#lemmatization\n",
    "wordnet_lemmatizer = WordNetLemmatizer()\n",
    "def lemmatizer(text):\n",
    "    lemm_text = [wordnet_lemmatizer.lemmatize(word) for word in text.split()]\n",
    "    return lemm_text"
   ]
  },
  {
   "cell_type": "code",
   "execution_count": 21,
   "id": "5bc88074",
   "metadata": {},
   "outputs": [],
   "source": [
    "df.insert(8, 'msg_lemmatized', df['no_stopwords'].apply(lambda x:lemmatizer(x)))"
   ]
  },
  {
   "cell_type": "code",
   "execution_count": 22,
   "id": "98a194f2",
   "metadata": {},
   "outputs": [
    {
     "data": {
      "text/html": [
       "<div>\n",
       "<style scoped>\n",
       "    .dataframe tbody tr th:only-of-type {\n",
       "        vertical-align: middle;\n",
       "    }\n",
       "\n",
       "    .dataframe tbody tr th {\n",
       "        vertical-align: top;\n",
       "    }\n",
       "\n",
       "    .dataframe thead th {\n",
       "        text-align: right;\n",
       "    }\n",
       "</style>\n",
       "<table border=\"1\" class=\"dataframe\">\n",
       "  <thead>\n",
       "    <tr style=\"text-align: right;\">\n",
       "      <th></th>\n",
       "      <th>title</th>\n",
       "      <th>media</th>\n",
       "      <th>date</th>\n",
       "      <th>datetime</th>\n",
       "      <th>desc</th>\n",
       "      <th>desc_tokenized</th>\n",
       "      <th>no_stopwords</th>\n",
       "      <th>msg_stemmed</th>\n",
       "      <th>msg_lemmatized</th>\n",
       "    </tr>\n",
       "  </thead>\n",
       "  <tbody>\n",
       "    <tr>\n",
       "      <th>0</th>\n",
       "      <td>Australia blames cyber criminals in Russia for...</td>\n",
       "      <td>CNN</td>\n",
       "      <td>4 days ago</td>\n",
       "      <td>2022-11-11 18:04:53.938207</td>\n",
       "      <td>links to notorious russian hackers cyber secur...</td>\n",
       "      <td>[links, to, notorious, russian, hackers, cyber...</td>\n",
       "      <td>links notorious russian hackers cyber security...</td>\n",
       "      <td>[link, notori, russian, hacker, cyber, secur, ...</td>\n",
       "      <td>[link, notorious, russian, hacker, cyber, secu...</td>\n",
       "    </tr>\n",
       "    <tr>\n",
       "      <th>1</th>\n",
       "      <td>Hacker demands $10m to stop leaking Australian...</td>\n",
       "      <td>Al Jazeera</td>\n",
       "      <td>5 days ago</td>\n",
       "      <td>2022-11-10 18:04:53.964787</td>\n",
       "      <td>a cyberextortionist has demanded almost 10 mil...</td>\n",
       "      <td>[a, cyberextortionist, has, demanded, almost, ...</td>\n",
       "      <td>cyberextortionist demanded almost 10 million s...</td>\n",
       "      <td>[cyberextortionist, demand, almost, 10, millio...</td>\n",
       "      <td>[cyberextortionist, demanded, almost, 10, mill...</td>\n",
       "    </tr>\n",
       "    <tr>\n",
       "      <th>2</th>\n",
       "      <td>What do we know about REvil, the Russian ranso...</td>\n",
       "      <td>The Conversation</td>\n",
       "      <td>4 days ago</td>\n",
       "      <td>2022-11-11 18:04:53.987725</td>\n",
       "      <td>australian federal police commissioner reece k...</td>\n",
       "      <td>[australian, federal, police, commissioner, re...</td>\n",
       "      <td>australian federal police commissioner reece k...</td>\n",
       "      <td>[australian, feder, polic, commission, reec, k...</td>\n",
       "      <td>[australian, federal, police, commissioner, re...</td>\n",
       "    </tr>\n",
       "    <tr>\n",
       "      <th>3</th>\n",
       "      <td>Explained: Why Are There So Many Data Breaches...</td>\n",
       "      <td>The Wire</td>\n",
       "      <td>3 weeks ago</td>\n",
       "      <td>2022-10-25 18:04:54.016813</td>\n",
       "      <td>hackers and initial access brokers are just on...</td>\n",
       "      <td>[hackers, and, initial, access, brokers, are, ...</td>\n",
       "      <td>hackers initial access brokers one part comple...</td>\n",
       "      <td>[hacker, initi, access, broker, one, part, com...</td>\n",
       "      <td>[hacker, initial, access, broker, one, part, c...</td>\n",
       "    </tr>\n",
       "    <tr>\n",
       "      <th>4</th>\n",
       "      <td>Haryana Police to observe 'cybersecurity month...</td>\n",
       "      <td>The Indian Express</td>\n",
       "      <td>1 month ago</td>\n",
       "      <td>2022-10-15 18:04:54.045819</td>\n",
       "      <td>the state polices cyber cell helpline number 1...</td>\n",
       "      <td>[the, state, polices, cyber, cell, helpline, n...</td>\n",
       "      <td>state polices cyber cell helpline number 1930 ...</td>\n",
       "      <td>[state, polic, cyber, cell, helplin, number, 1...</td>\n",
       "      <td>[state, police, cyber, cell, helpline, number,...</td>\n",
       "    </tr>\n",
       "  </tbody>\n",
       "</table>\n",
       "</div>"
      ],
      "text/plain": [
       "                                               title               media  \\\n",
       "0  Australia blames cyber criminals in Russia for...                 CNN   \n",
       "1  Hacker demands $10m to stop leaking Australian...          Al Jazeera   \n",
       "2  What do we know about REvil, the Russian ranso...    The Conversation   \n",
       "3  Explained: Why Are There So Many Data Breaches...            The Wire   \n",
       "4  Haryana Police to observe 'cybersecurity month...  The Indian Express   \n",
       "\n",
       "          date                   datetime  \\\n",
       "0   4 days ago 2022-11-11 18:04:53.938207   \n",
       "1   5 days ago 2022-11-10 18:04:53.964787   \n",
       "2   4 days ago 2022-11-11 18:04:53.987725   \n",
       "3  3 weeks ago 2022-10-25 18:04:54.016813   \n",
       "4  1 month ago 2022-10-15 18:04:54.045819   \n",
       "\n",
       "                                                desc  \\\n",
       "0  links to notorious russian hackers cyber secur...   \n",
       "1  a cyberextortionist has demanded almost 10 mil...   \n",
       "2  australian federal police commissioner reece k...   \n",
       "3  hackers and initial access brokers are just on...   \n",
       "4  the state polices cyber cell helpline number 1...   \n",
       "\n",
       "                                      desc_tokenized  \\\n",
       "0  [links, to, notorious, russian, hackers, cyber...   \n",
       "1  [a, cyberextortionist, has, demanded, almost, ...   \n",
       "2  [australian, federal, police, commissioner, re...   \n",
       "3  [hackers, and, initial, access, brokers, are, ...   \n",
       "4  [the, state, polices, cyber, cell, helpline, n...   \n",
       "\n",
       "                                        no_stopwords  \\\n",
       "0  links notorious russian hackers cyber security...   \n",
       "1  cyberextortionist demanded almost 10 million s...   \n",
       "2  australian federal police commissioner reece k...   \n",
       "3  hackers initial access brokers one part comple...   \n",
       "4  state polices cyber cell helpline number 1930 ...   \n",
       "\n",
       "                                         msg_stemmed  \\\n",
       "0  [link, notori, russian, hacker, cyber, secur, ...   \n",
       "1  [cyberextortionist, demand, almost, 10, millio...   \n",
       "2  [australian, feder, polic, commission, reec, k...   \n",
       "3  [hacker, initi, access, broker, one, part, com...   \n",
       "4  [state, polic, cyber, cell, helplin, number, 1...   \n",
       "\n",
       "                                      msg_lemmatized  \n",
       "0  [link, notorious, russian, hacker, cyber, secu...  \n",
       "1  [cyberextortionist, demanded, almost, 10, mill...  \n",
       "2  [australian, federal, police, commissioner, re...  \n",
       "3  [hacker, initial, access, broker, one, part, c...  \n",
       "4  [state, police, cyber, cell, helpline, number,...  "
      ]
     },
     "execution_count": 22,
     "metadata": {},
     "output_type": "execute_result"
    }
   ],
   "source": [
    "df.head()"
   ]
  },
  {
   "cell_type": "markdown",
   "id": "1f5f3555",
   "metadata": {},
   "source": [
    "**Polarity- positive & negative**"
   ]
  },
  {
   "cell_type": "code",
   "execution_count": 23,
   "id": "90ecf090",
   "metadata": {},
   "outputs": [],
   "source": [
    "sen_alz = SentimentIntensityAnalyzer()\n",
    "polarity = []\n",
    "for i in df[\"desc\"]:\n",
    "    polarity.append(sen_alz.polarity_scores(i)['compound'])\n",
    "polarity = np.array(polarity)\n",
    "df['polarity']=polarity"
   ]
  },
  {
   "cell_type": "code",
   "execution_count": 24,
   "id": "3b0581c1",
   "metadata": {},
   "outputs": [],
   "source": [
    "col         = 'polarity'\n",
    "conditions  = [df[col] >= 0, df[col] < 0]\n",
    "choices     = ['Positive', 'Negative']\n",
    "    \n",
    "df[\"Sentiment\"] = np.select(conditions, choices, default=np.nan)"
   ]
  },
  {
   "cell_type": "code",
   "execution_count": 25,
   "id": "ce875900",
   "metadata": {},
   "outputs": [],
   "source": [
    "sentiment=df[\"Sentiment\"]\n",
    "polarity=df['polarity']"
   ]
  },
  {
   "cell_type": "code",
   "execution_count": 26,
   "id": "cc9b7fd7",
   "metadata": {},
   "outputs": [
    {
     "data": {
      "text/plain": [
       "0      Negative\n",
       "1      Negative\n",
       "2      Negative\n",
       "3      Positive\n",
       "4      Negative\n",
       "         ...   \n",
       "279    Negative\n",
       "280    Negative\n",
       "281    Negative\n",
       "282    Positive\n",
       "283    Negative\n",
       "Name: Sentiment, Length: 284, dtype: object"
      ]
     },
     "execution_count": 26,
     "metadata": {},
     "output_type": "execute_result"
    }
   ],
   "source": [
    "sentiment"
   ]
  },
  {
   "cell_type": "code",
   "execution_count": 27,
   "id": "9c773a91",
   "metadata": {},
   "outputs": [
    {
     "data": {
      "text/plain": [
       "Sentiment\n",
       "Negative    224\n",
       "Positive     60\n",
       "Name: polarity, dtype: int64"
      ]
     },
     "execution_count": 27,
     "metadata": {},
     "output_type": "execute_result"
    }
   ],
   "source": [
    "df.groupby('Sentiment')['polarity'].count()"
   ]
  },
  {
   "cell_type": "markdown",
   "id": "9835b12b",
   "metadata": {},
   "source": [
    "There are 228 negative news and 63 positive news in the dataset."
   ]
  },
  {
   "cell_type": "code",
   "execution_count": 28,
   "id": "7a29bb35",
   "metadata": {},
   "outputs": [
    {
     "data": {
      "text/plain": [
       "<AxesSubplot:xlabel='Sentiment', ylabel='count'>"
      ]
     },
     "execution_count": 28,
     "metadata": {},
     "output_type": "execute_result"
    },
    {
     "data": {
      "image/png": "[encoded data removed]",
      "text/plain": [
       "<Figure size 864x432 with 1 Axes>"
      ]
     },
     "metadata": {
      "needs_background": "light"
     },
     "output_type": "display_data"
    }
   ],
   "source": [
    "plt.figure(figsize=(12,6))\n",
    "sns.countplot(x=df['Sentiment'],data=df)"
   ]
  },
  {
   "cell_type": "code",
   "execution_count": 29,
   "id": "25c86cf1",
   "metadata": {},
   "outputs": [
    {
     "data": {
      "text/plain": [
       "<AxesSubplot:xlabel='Sentiment'>"
      ]
     },
     "execution_count": 29,
     "metadata": {},
     "output_type": "execute_result"
    },
    {
     "data": {
      "image/png": "[encoded data removed]",
      "text/plain": [
       "<Figure size 432x288 with 1 Axes>"
      ]
     },
     "metadata": {
      "needs_background": "light"
     },
     "output_type": "display_data"
    }
   ],
   "source": [
    "df.groupby('Sentiment')['polarity'].count().plot(kind='bar', figsize=(6,4), width=0.5, color=['black', 'blue'])"
   ]
  },
  {
   "cell_type": "code",
   "execution_count": 30,
   "id": "de124f08",
   "metadata": {},
   "outputs": [
    {
     "data": {
      "text/plain": [
       "Sentiment\n",
       "Negative   -0.627443\n",
       "Positive    0.264268\n",
       "Name: polarity, dtype: float64"
      ]
     },
     "execution_count": 30,
     "metadata": {},
     "output_type": "execute_result"
    }
   ],
   "source": [
    "df.groupby('Sentiment')['polarity'].mean()"
   ]
  },
  {
   "cell_type": "markdown",
   "id": "fb0d0ef4",
   "metadata": {},
   "source": [
    "Negative has the mean of -0.62 and positive has the mean 0f 0.25 "
   ]
  },
  {
   "cell_type": "markdown",
   "id": "95dc6b0b",
   "metadata": {},
   "source": [
    "**Wordcloud**"
   ]
  },
  {
   "cell_type": "code",
   "execution_count": 31,
   "id": "79f42967",
   "metadata": {},
   "outputs": [],
   "source": [
    "#Positive news\n",
    "positive_news = df.loc[df['Sentiment']=='Positive']\n",
    "pos_news = ' '.join(positive_news['no_stopwords'])"
   ]
  },
  {
   "cell_type": "code",
   "execution_count": 35,
   "id": "229f50ee",
   "metadata": {},
   "outputs": [],
   "source": [
    "#Negative news\n",
    "negative_news = df.loc[df['Sentiment']=='Negative']\n",
    "neg_news = ' '.join(negative_news['no_stopwords'])"
   ]
  },
  {
   "cell_type": "code",
   "execution_count": 36,
   "id": "d2f477f2",
   "metadata": {},
   "outputs": [
    {
     "data": {
      "text/plain": [
       "Text(0.5, 1.0, 'Positive_news word cloud')"
      ]
     },
     "execution_count": 36,
     "metadata": {},
     "output_type": "execute_result"
    },
    {
     "data": {
      "image/png": "[encoded data removed]",
      "text/plain": [
       "<Figure size 432x288 with 1 Axes>"
      ]
     },
     "metadata": {
      "needs_background": "light"
     },
     "output_type": "display_data"
    }
   ],
   "source": [
    "positive_cloud = WordCloud()\n",
    "positive_cloud = positive_cloud.generate(pos_news)\n",
    "plt.imshow(positive_cloud)\n",
    "plt.axis('off')\n",
    "plt.title(\"Positive_news word cloud\")"
   ]
  },
  {
   "cell_type": "code",
   "execution_count": 37,
   "id": "5a70f2c9",
   "metadata": {},
   "outputs": [
    {
     "data": {
      "text/plain": [
       "Text(0.5, 1.0, 'negative_news word cloud')"
      ]
     },
     "execution_count": 37,
     "metadata": {},
     "output_type": "execute_result"
    },
    {
     "data": {
      "image/png": "[encoded data removed]",
      "text/plain": [
       "<Figure size 432x288 with 1 Axes>"
      ]
     },
     "metadata": {
      "needs_background": "light"
     },
     "output_type": "display_data"
    }
   ],
   "source": [
    "negative_cloud = WordCloud()\n",
    "negative_cloud = negative_cloud.generate(neg_news)\n",
    "plt.imshow(negative_cloud)\n",
    "plt.axis('off')\n",
    "plt.title(\"negative_news word cloud\")"
   ]
  },
  {
   "cell_type": "markdown",
   "id": "3b8dc165",
   "metadata": {},
   "source": [
    "**Creating corpus**"
   ]
  },
  {
   "cell_type": "markdown",
   "id": "e565b88c",
   "metadata": {},
   "source": [
    "Based upon those repeated words we find earlier, we are going to create a corpus for 'adventure'."
   ]
  },
  {
   "cell_type": "code",
   "execution_count": 38,
   "id": "aa98a520",
   "metadata": {},
   "outputs": [
    {
     "data": {
      "text/plain": [
       "0      [link, notorious, russian, hacker, cyber, secu...\n",
       "1      [cyberextortionist, demanded, almost, 10, mill...\n",
       "2      [australian, federal, police, commissioner, re...\n",
       "3      [hacker, initial, access, broker, one, part, c...\n",
       "4      [state, police, cyber, cell, helpline, number,...\n",
       "                             ...                        \n",
       "279    [bestforbest, shutterstock, think, youre, immu...\n",
       "280    [jump, cybercrime, australian, reporting, fost...\n",
       "281    [australian, victim, cybercrime, urged, report...\n",
       "282    [cybercrime, becomes, prevalent, public, insur...\n",
       "283    [153, per, cent, increase, cyber, fraud, compl...\n",
       "Name: msg_lemmatized, Length: 284, dtype: object"
      ]
     },
     "execution_count": 38,
     "metadata": {},
     "output_type": "execute_result"
    }
   ],
   "source": [
    "df['msg_lemmatized']"
   ]
  },
  {
   "cell_type": "code",
   "execution_count": 39,
   "id": "b71e8aa6",
   "metadata": {},
   "outputs": [],
   "source": [
    "from nltk.corpus import names"
   ]
  },
  {
   "cell_type": "code",
   "execution_count": 40,
   "id": "5da37dd1",
   "metadata": {},
   "outputs": [],
   "source": [
    "gov = brown.words(categories='adventure')\n",
    "name = names.words()"
   ]
  },
  {
   "cell_type": "code",
   "execution_count": 41,
   "id": "7a77329e",
   "metadata": {},
   "outputs": [],
   "source": [
    "corpus = np.array(df['desc'])"
   ]
  },
  {
   "cell_type": "code",
   "execution_count": 42,
   "id": "436f09f9",
   "metadata": {
    "scrolled": true
   },
   "outputs": [
    {
     "data": {
      "text/html": [
       "<div>\n",
       "<style scoped>\n",
       "    .dataframe tbody tr th:only-of-type {\n",
       "        vertical-align: middle;\n",
       "    }\n",
       "\n",
       "    .dataframe tbody tr th {\n",
       "        vertical-align: top;\n",
       "    }\n",
       "\n",
       "    .dataframe thead th {\n",
       "        text-align: right;\n",
       "    }\n",
       "</style>\n",
       "<table border=\"1\" class=\"dataframe\">\n",
       "  <thead>\n",
       "    <tr style=\"text-align: right;\">\n",
       "      <th></th>\n",
       "      <th>title</th>\n",
       "      <th>media</th>\n",
       "      <th>date</th>\n",
       "      <th>datetime</th>\n",
       "      <th>desc</th>\n",
       "      <th>desc_tokenized</th>\n",
       "      <th>no_stopwords</th>\n",
       "      <th>msg_stemmed</th>\n",
       "      <th>msg_lemmatized</th>\n",
       "      <th>polarity</th>\n",
       "      <th>Sentiment</th>\n",
       "    </tr>\n",
       "  </thead>\n",
       "  <tbody>\n",
       "    <tr>\n",
       "      <th>0</th>\n",
       "      <td>Australia blames cyber criminals in Russia for...</td>\n",
       "      <td>CNN</td>\n",
       "      <td>4 days ago</td>\n",
       "      <td>2022-11-11 18:04:53.938207</td>\n",
       "      <td>links to notorious russian hackers cyber secur...</td>\n",
       "      <td>[links, to, notorious, russian, hackers, cyber...</td>\n",
       "      <td>links notorious russian hackers cyber security...</td>\n",
       "      <td>[link, notori, russian, hacker, cyber, secur, ...</td>\n",
       "      <td>[link, notorious, russian, hacker, cyber, secu...</td>\n",
       "      <td>-0.7964</td>\n",
       "      <td>Negative</td>\n",
       "    </tr>\n",
       "    <tr>\n",
       "      <th>1</th>\n",
       "      <td>Hacker demands $10m to stop leaking Australian...</td>\n",
       "      <td>Al Jazeera</td>\n",
       "      <td>5 days ago</td>\n",
       "      <td>2022-11-10 18:04:53.964787</td>\n",
       "      <td>a cyberextortionist has demanded almost 10 mil...</td>\n",
       "      <td>[a, cyberextortionist, has, demanded, almost, ...</td>\n",
       "      <td>cyberextortionist demanded almost 10 million s...</td>\n",
       "      <td>[cyberextortionist, demand, almost, 10, millio...</td>\n",
       "      <td>[cyberextortionist, demanded, almost, 10, mill...</td>\n",
       "      <td>-0.6908</td>\n",
       "      <td>Negative</td>\n",
       "    </tr>\n",
       "    <tr>\n",
       "      <th>2</th>\n",
       "      <td>What do we know about REvil, the Russian ranso...</td>\n",
       "      <td>The Conversation</td>\n",
       "      <td>4 days ago</td>\n",
       "      <td>2022-11-11 18:04:53.987725</td>\n",
       "      <td>australian federal police commissioner reece k...</td>\n",
       "      <td>[australian, federal, police, commissioner, re...</td>\n",
       "      <td>australian federal police commissioner reece k...</td>\n",
       "      <td>[australian, feder, polic, commission, reec, k...</td>\n",
       "      <td>[australian, federal, police, commissioner, re...</td>\n",
       "      <td>-0.7579</td>\n",
       "      <td>Negative</td>\n",
       "    </tr>\n",
       "    <tr>\n",
       "      <th>3</th>\n",
       "      <td>Explained: Why Are There So Many Data Breaches...</td>\n",
       "      <td>The Wire</td>\n",
       "      <td>3 weeks ago</td>\n",
       "      <td>2022-10-25 18:04:54.016813</td>\n",
       "      <td>hackers and initial access brokers are just on...</td>\n",
       "      <td>[hackers, and, initial, access, brokers, are, ...</td>\n",
       "      <td>hackers initial access brokers one part comple...</td>\n",
       "      <td>[hacker, initi, access, broker, one, part, com...</td>\n",
       "      <td>[hacker, initial, access, broker, one, part, c...</td>\n",
       "      <td>0.0000</td>\n",
       "      <td>Positive</td>\n",
       "    </tr>\n",
       "    <tr>\n",
       "      <th>4</th>\n",
       "      <td>Haryana Police to observe 'cybersecurity month...</td>\n",
       "      <td>The Indian Express</td>\n",
       "      <td>1 month ago</td>\n",
       "      <td>2022-10-15 18:04:54.045819</td>\n",
       "      <td>the state polices cyber cell helpline number 1...</td>\n",
       "      <td>[the, state, polices, cyber, cell, helpline, n...</td>\n",
       "      <td>state polices cyber cell helpline number 1930 ...</td>\n",
       "      <td>[state, polic, cyber, cell, helplin, number, 1...</td>\n",
       "      <td>[state, police, cyber, cell, helpline, number,...</td>\n",
       "      <td>-0.4939</td>\n",
       "      <td>Negative</td>\n",
       "    </tr>\n",
       "    <tr>\n",
       "      <th>...</th>\n",
       "      <td>...</td>\n",
       "      <td>...</td>\n",
       "      <td>...</td>\n",
       "      <td>...</td>\n",
       "      <td>...</td>\n",
       "      <td>...</td>\n",
       "      <td>...</td>\n",
       "      <td>...</td>\n",
       "      <td>...</td>\n",
       "      <td>...</td>\n",
       "      <td>...</td>\n",
       "    </tr>\n",
       "    <tr>\n",
       "      <th>279</th>\n",
       "      <td>Think you're immune to cybercrime because you'...</td>\n",
       "      <td>Local News 8</td>\n",
       "      <td>1 week ago</td>\n",
       "      <td>2022-11-08 18:05:32.753625</td>\n",
       "      <td>bestforbest  shutterstock think youre immune t...</td>\n",
       "      <td>[bestforbest, shutterstock, think, youre, immu...</td>\n",
       "      <td>bestforbest shutterstock think youre immune cy...</td>\n",
       "      <td>[bestforbest, shutterstock, think, your, immun...</td>\n",
       "      <td>[bestforbest, shutterstock, think, youre, immu...</td>\n",
       "      <td>-0.0772</td>\n",
       "      <td>Negative</td>\n",
       "    </tr>\n",
       "    <tr>\n",
       "      <th>280</th>\n",
       "      <td>Live breaking news: William Tyrrell's foster m...</td>\n",
       "      <td>9News</td>\n",
       "      <td>1 week ago</td>\n",
       "      <td>2022-11-08 18:05:33.747813</td>\n",
       "      <td>and there has been a jump in cybercrime with a...</td>\n",
       "      <td>[and, there, has, been, a, jump, in, cybercrim...</td>\n",
       "      <td>jump cybercrime australians reporting foster m...</td>\n",
       "      <td>[jump, cybercrim, australian, report, foster, ...</td>\n",
       "      <td>[jump, cybercrime, australian, reporting, fost...</td>\n",
       "      <td>-0.6908</td>\n",
       "      <td>Negative</td>\n",
       "    </tr>\n",
       "    <tr>\n",
       "      <th>281</th>\n",
       "      <td>Cyber victims urged to report crime</td>\n",
       "      <td>PS News</td>\n",
       "      <td>1 week ago</td>\n",
       "      <td>2022-11-08 18:05:33.770467</td>\n",
       "      <td>australian victims of cybercrime are being urg...</td>\n",
       "      <td>[australian, victims, of, cybercrime, are, bei...</td>\n",
       "      <td>australian victims cybercrime urged report ran...</td>\n",
       "      <td>[australian, victim, cybercrim, urg, report, r...</td>\n",
       "      <td>[australian, victim, cybercrime, urged, report...</td>\n",
       "      <td>-0.7845</td>\n",
       "      <td>Negative</td>\n",
       "    </tr>\n",
       "    <tr>\n",
       "      <th>282</th>\n",
       "      <td>As Cybercrime Becomes More Prevalent, Public I...</td>\n",
       "      <td>Bisnow</td>\n",
       "      <td>5 days ago</td>\n",
       "      <td>2022-11-10 18:05:33.793513</td>\n",
       "      <td>as cybercrime becomes more prevalent public in...</td>\n",
       "      <td>[as, cybercrime, becomes, more, prevalent, pub...</td>\n",
       "      <td>cybercrime becomes prevalent public insurance ...</td>\n",
       "      <td>[cybercrim, becom, preval, public, insur, adju...</td>\n",
       "      <td>[cybercrime, becomes, prevalent, public, insur...</td>\n",
       "      <td>0.0000</td>\n",
       "      <td>Positive</td>\n",
       "    </tr>\n",
       "    <tr>\n",
       "      <th>283</th>\n",
       "      <td>UPI scam: Massive spike in online payment frau...</td>\n",
       "      <td>DNA India</td>\n",
       "      <td>1 week ago</td>\n",
       "      <td>2022-11-08 18:05:33.818510</td>\n",
       "      <td>there was a 153 per cent increase in cyber fra...</td>\n",
       "      <td>[there, was, a, 153, per, cent, increase, in, ...</td>\n",
       "      <td>153 per cent increase cyber fraud complaints c...</td>\n",
       "      <td>[153, per, cent, increas, cyber, fraud, compla...</td>\n",
       "      <td>[153, per, cent, increase, cyber, fraud, compl...</td>\n",
       "      <td>-0.8934</td>\n",
       "      <td>Negative</td>\n",
       "    </tr>\n",
       "  </tbody>\n",
       "</table>\n",
       "<p>284 rows × 11 columns</p>\n",
       "</div>"
      ],
      "text/plain": [
       "                                                 title               media  \\\n",
       "0    Australia blames cyber criminals in Russia for...                 CNN   \n",
       "1    Hacker demands $10m to stop leaking Australian...          Al Jazeera   \n",
       "2    What do we know about REvil, the Russian ranso...    The Conversation   \n",
       "3    Explained: Why Are There So Many Data Breaches...            The Wire   \n",
       "4    Haryana Police to observe 'cybersecurity month...  The Indian Express   \n",
       "..                                                 ...                 ...   \n",
       "279  Think you're immune to cybercrime because you'...        Local News 8   \n",
       "280  Live breaking news: William Tyrrell's foster m...               9News   \n",
       "281                Cyber victims urged to report crime             PS News   \n",
       "282  As Cybercrime Becomes More Prevalent, Public I...              Bisnow   \n",
       "283  UPI scam: Massive spike in online payment frau...           DNA India   \n",
       "\n",
       "            date                   datetime  \\\n",
       "0     4 days ago 2022-11-11 18:04:53.938207   \n",
       "1     5 days ago 2022-11-10 18:04:53.964787   \n",
       "2     4 days ago 2022-11-11 18:04:53.987725   \n",
       "3    3 weeks ago 2022-10-25 18:04:54.016813   \n",
       "4    1 month ago 2022-10-15 18:04:54.045819   \n",
       "..           ...                        ...   \n",
       "279   1 week ago 2022-11-08 18:05:32.753625   \n",
       "280   1 week ago 2022-11-08 18:05:33.747813   \n",
       "281   1 week ago 2022-11-08 18:05:33.770467   \n",
       "282   5 days ago 2022-11-10 18:05:33.793513   \n",
       "283   1 week ago 2022-11-08 18:05:33.818510   \n",
       "\n",
       "                                                  desc  \\\n",
       "0    links to notorious russian hackers cyber secur...   \n",
       "1    a cyberextortionist has demanded almost 10 mil...   \n",
       "2    australian federal police commissioner reece k...   \n",
       "3    hackers and initial access brokers are just on...   \n",
       "4    the state polices cyber cell helpline number 1...   \n",
       "..                                                 ...   \n",
       "279  bestforbest  shutterstock think youre immune t...   \n",
       "280  and there has been a jump in cybercrime with a...   \n",
       "281  australian victims of cybercrime are being urg...   \n",
       "282  as cybercrime becomes more prevalent public in...   \n",
       "283  there was a 153 per cent increase in cyber fra...   \n",
       "\n",
       "                                        desc_tokenized  \\\n",
       "0    [links, to, notorious, russian, hackers, cyber...   \n",
       "1    [a, cyberextortionist, has, demanded, almost, ...   \n",
       "2    [australian, federal, police, commissioner, re...   \n",
       "3    [hackers, and, initial, access, brokers, are, ...   \n",
       "4    [the, state, polices, cyber, cell, helpline, n...   \n",
       "..                                                 ...   \n",
       "279  [bestforbest, shutterstock, think, youre, immu...   \n",
       "280  [and, there, has, been, a, jump, in, cybercrim...   \n",
       "281  [australian, victims, of, cybercrime, are, bei...   \n",
       "282  [as, cybercrime, becomes, more, prevalent, pub...   \n",
       "283  [there, was, a, 153, per, cent, increase, in, ...   \n",
       "\n",
       "                                          no_stopwords  \\\n",
       "0    links notorious russian hackers cyber security...   \n",
       "1    cyberextortionist demanded almost 10 million s...   \n",
       "2    australian federal police commissioner reece k...   \n",
       "3    hackers initial access brokers one part comple...   \n",
       "4    state polices cyber cell helpline number 1930 ...   \n",
       "..                                                 ...   \n",
       "279  bestforbest shutterstock think youre immune cy...   \n",
       "280  jump cybercrime australians reporting foster m...   \n",
       "281  australian victims cybercrime urged report ran...   \n",
       "282  cybercrime becomes prevalent public insurance ...   \n",
       "283  153 per cent increase cyber fraud complaints c...   \n",
       "\n",
       "                                           msg_stemmed  \\\n",
       "0    [link, notori, russian, hacker, cyber, secur, ...   \n",
       "1    [cyberextortionist, demand, almost, 10, millio...   \n",
       "2    [australian, feder, polic, commission, reec, k...   \n",
       "3    [hacker, initi, access, broker, one, part, com...   \n",
       "4    [state, polic, cyber, cell, helplin, number, 1...   \n",
       "..                                                 ...   \n",
       "279  [bestforbest, shutterstock, think, your, immun...   \n",
       "280  [jump, cybercrim, australian, report, foster, ...   \n",
       "281  [australian, victim, cybercrim, urg, report, r...   \n",
       "282  [cybercrim, becom, preval, public, insur, adju...   \n",
       "283  [153, per, cent, increas, cyber, fraud, compla...   \n",
       "\n",
       "                                        msg_lemmatized  polarity Sentiment  \n",
       "0    [link, notorious, russian, hacker, cyber, secu...   -0.7964  Negative  \n",
       "1    [cyberextortionist, demanded, almost, 10, mill...   -0.6908  Negative  \n",
       "2    [australian, federal, police, commissioner, re...   -0.7579  Negative  \n",
       "3    [hacker, initial, access, broker, one, part, c...    0.0000  Positive  \n",
       "4    [state, police, cyber, cell, helpline, number,...   -0.4939  Negative  \n",
       "..                                                 ...       ...       ...  \n",
       "279  [bestforbest, shutterstock, think, youre, immu...   -0.0772  Negative  \n",
       "280  [jump, cybercrime, australian, reporting, fost...   -0.6908  Negative  \n",
       "281  [australian, victim, cybercrime, urged, report...   -0.7845  Negative  \n",
       "282  [cybercrime, becomes, prevalent, public, insur...    0.0000  Positive  \n",
       "283  [153, per, cent, increase, cyber, fraud, compl...   -0.8934  Negative  \n",
       "\n",
       "[284 rows x 11 columns]"
      ]
     },
     "execution_count": 42,
     "metadata": {},
     "output_type": "execute_result"
    }
   ],
   "source": [
    "df.dropna(thresh=5)"
   ]
  },
  {
   "cell_type": "code",
   "execution_count": 43,
   "id": "c34973a9",
   "metadata": {},
   "outputs": [],
   "source": [
    "labeled_names = ([(word, 'individual') for sent in df.iloc[:, 6] for word in sent.split() if word.capitalize() in name] + [(word, 'adventure') for sent in df.iloc[:, 6] for word in sent.split() if word in gov])"
   ]
  },
  {
   "cell_type": "code",
   "execution_count": 44,
   "id": "5548e68a",
   "metadata": {},
   "outputs": [],
   "source": [
    "np.random.shuffle(labeled_names)\n",
    "def features(word):\n",
    "    return {'word': word.lower()}"
   ]
  },
  {
   "cell_type": "markdown",
   "id": "00ca4bbd",
   "metadata": {},
   "source": [
    "**Naive bayes classifier**"
   ]
  },
  {
   "cell_type": "code",
   "execution_count": 45,
   "id": "6f20f81f",
   "metadata": {},
   "outputs": [],
   "source": [
    "featuresets = [(features(n), category) for (n, category) in labeled_names]\n",
    "train_set, test_set = featuresets[500:], featuresets[:500]\n",
    "classifier = nltk.NaiveBayesClassifier.train(train_set)"
   ]
  },
  {
   "cell_type": "code",
   "execution_count": 46,
   "id": "517385f7",
   "metadata": {},
   "outputs": [
    {
     "name": "stdout",
     "output_type": "stream",
     "text": [
      "Most Informative Features\n",
      "                    word = 'major'        indivi : advent =     14.0 : 1.0\n",
      "                    word = 'case'         indivi : advent =      6.8 : 1.0\n",
      "                    word = 'say'          indivi : advent =      4.7 : 1.0\n",
      "                    word = 'carry'        indivi : advent =      4.7 : 1.0\n",
      "                    word = 'hall'         indivi : advent =      4.7 : 1.0\n",
      "                    word = 'may'          indivi : advent =      4.7 : 1.0\n",
      "                    word = 'wake'         indivi : advent =      4.7 : 1.0\n",
      "                    word = 'worth'        indivi : advent =      2.8 : 1.0\n"
     ]
    }
   ],
   "source": [
    "classifier.show_most_informative_features()"
   ]
  },
  {
   "cell_type": "code",
   "execution_count": 47,
   "id": "9f6facb3",
   "metadata": {},
   "outputs": [
    {
     "name": "stdout",
     "output_type": "stream",
     "text": [
      "Train set accuracy :  0.964260686755431\n"
     ]
    }
   ],
   "source": [
    "print(\"Train set accuracy : \", nltk.classify.accuracy(classifier, train_set))"
   ]
  },
  {
   "cell_type": "code",
   "execution_count": 48,
   "id": "e874b647",
   "metadata": {},
   "outputs": [
    {
     "name": "stdout",
     "output_type": "stream",
     "text": [
      "Test set accuracy :  0.98\n"
     ]
    }
   ],
   "source": [
    "print(\"Test set accuracy : \", nltk.classify.accuracy(classifier, test_set))"
   ]
  },
  {
   "cell_type": "code",
   "execution_count": null,
   "id": "2d6edc46",
   "metadata": {},
   "outputs": [],
   "source": []
  }
 ],
 "metadata": {
  "kernelspec": {
   "display_name": "Python 3",
   "language": "python",
   "name": "python3"
  },
  "language_info": {
   "codemirror_mode": {
    "name": "ipython",
    "version": 3
   },
   "file_extension": ".py",
   "mimetype": "text/x-python",
   "name": "python",
   "nbconvert_exporter": "python",
   "pygments_lexer": "ipython3",
   "version": "3.8.8"
  }
 },
 "nbformat": 4,
 "nbformat_minor": 5
}
